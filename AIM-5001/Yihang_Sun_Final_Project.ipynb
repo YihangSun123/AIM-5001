{
 "cells": [
  {
   "cell_type": "markdown",
   "metadata": {},
   "source": [
    "# AIM 5001 Final Project Proposal"
   ]
  },
  {
   "cell_type": "markdown",
   "metadata": {},
   "source": [
    "# Introduction: \n",
    "Gun violence is an important problem in the United States because it cause tens of thousands of deaths and injuries annually.So I would analyze the gun violence in the final project.\n"
   ]
  },
  {
   "cell_type": "markdown",
   "metadata": {},
   "source": [
    "# Research Questions:\n",
    "1. Which factor has the highest effect for gun violence?\n",
    "Many factors can affect the gun violence, such income, gender and others. Which factor has the highest effect?\n",
    "2. Can Law of control guns solve the Gun violence?\n",
    "Legislation at the federal, state, and local levels has attempted to address gun violence through a variety of methods.Is the way effective?"
   ]
  },
  {
   "cell_type": "markdown",
   "metadata": {},
   "source": [
    "# Data to be Used:\n",
    "1.I will use the data 'More Guns, Less Crime?' from R Data Sets.It includes 1173 rows and 13 columns.This data will use csv format.\n",
    "2.Another source is scraping of a web page from https://everytownresearch.org/report/gun-violence-in-america/."
   ]
  },
  {
   "cell_type": "markdown",
   "metadata": {},
   "source": [
    "# Approach:\n",
    "1. For the data of csv format, I will upload it to github.\n",
    "2. For these research questions, I will use bar plots to show every factor's influence for gun violence, and using scattor chart or other charts to anlayze the relationship between gun violence and Law."
   ]
  },
  {
   "cell_type": "code",
   "execution_count": null,
   "metadata": {},
   "outputs": [],
   "source": []
  }
 ],
 "metadata": {
  "kernelspec": {
   "display_name": "Python 3",
   "language": "python",
   "name": "python3"
  },
  "language_info": {
   "codemirror_mode": {
    "name": "ipython",
    "version": 3
   },
   "file_extension": ".py",
   "mimetype": "text/x-python",
   "name": "python",
   "nbconvert_exporter": "python",
   "pygments_lexer": "ipython3",
   "version": "3.8.3"
  }
 },
 "nbformat": 4,
 "nbformat_minor": 4
}
