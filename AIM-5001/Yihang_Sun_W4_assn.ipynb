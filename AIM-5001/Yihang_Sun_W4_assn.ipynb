{
 "cells": [
  {
   "cell_type": "code",
   "execution_count": 36,
   "metadata": {},
   "outputs": [
    {
     "name": "stdout",
     "output_type": "stream",
     "text": [
      "[1 2 3 2 3 4 3 4 5 6]\n",
      "[ 7  2 10  2  7  4  9  4  9  8]\n",
      "Distinct items between two arrays:\n",
      "[2 4]\n",
      "unique common values between two arrays:\n",
      "[2 4]\n"
     ]
    }
   ],
   "source": [
    "#Q1\n",
    "import numpy as np\n",
    "array1 = np.array([1, 2, 3, 2, 3, 4, 3, 4, 5, 6])\n",
    "print(array1)\n",
    "array2 = np.array([7, 2, 10, 2, 7, 4, 9, 4, 9, 8])\n",
    "print(array2)\n",
    "print(\"Distinct items between two arrays:\")\n",
    "print(np.intersect1d(array1, array2))\n",
    "print(\"unique common values between two arrays:\")\n",
    "print(np.intersect1d(array1, array2))"
   ]
  },
  {
   "cell_type": "code",
   "execution_count": 7,
   "metadata": {},
   "outputs": [
    {
     "data": {
      "text/plain": [
       "array([[ 1.,  6., 11.],\n",
       "       [ 2.,  7., 12.],\n",
       "       [ 3.,  8., 13.],\n",
       "       [ 4.,  9., 14.],\n",
       "       [ 5., 10., 15.]])"
      ]
     },
     "execution_count": 7,
     "metadata": {},
     "output_type": "execute_result"
    }
   ],
   "source": [
    "#Q2\n",
    "arr = np.array([[1.,6.,11.],[2.,7.,12.],[3.,8.,13.],[4.,9.,14.],[5.,10.,15.]])\n",
    "arr"
   ]
  },
  {
   "cell_type": "code",
   "execution_count": 4,
   "metadata": {},
   "outputs": [
    {
     "data": {
      "text/plain": [
       "array([ 1,  7,  8, 15])"
      ]
     },
     "execution_count": 4,
     "metadata": {},
     "output_type": "execute_result"
    }
   ],
   "source": [
    "#Q3\n",
    "import numpy as np\n",
    "a = np.array([12, 5, 7, 15, 3, 1, 8])\n",
    "b = np.array([14, 6, 3, 11, 19, 12, 5])\n",
    "\n",
    "np.setdiff1d(a,b)"
   ]
  },
  {
   "cell_type": "code",
   "execution_count": 34,
   "metadata": {},
   "outputs": [
    {
     "ename": "IndentationError",
     "evalue": "unexpected indent (<ipython-input-34-9f1596b10bc3>, line 4)",
     "output_type": "error",
     "traceback": [
      "\u001b[1;36m  File \u001b[1;32m\"<ipython-input-34-9f1596b10bc3>\"\u001b[1;36m, line \u001b[1;32m4\u001b[0m\n\u001b[1;33m    np.random.randint(10,size=10)\u001b[0m\n\u001b[1;37m    ^\u001b[0m\n\u001b[1;31mIndentationError\u001b[0m\u001b[1;31m:\u001b[0m unexpected indent\n"
     ]
    }
   ],
   "source": [
    "#Q4\n",
    "# The distance from New York City to Key West, Florida is 1522 miles\n",
    "# 1522-120=1402   31days-2days=29days\n",
    " np.random.randint(10,size=10)"
   ]
  },
  {
   "cell_type": "code",
   "execution_count": null,
   "metadata": {},
   "outputs": [],
   "source": []
  },
  {
   "cell_type": "code",
   "execution_count": 7,
   "metadata": {},
   "outputs": [
    {
     "data": {
      "text/plain": [
       "numpy.ndarray"
      ]
     },
     "execution_count": 7,
     "metadata": {},
     "output_type": "execute_result"
    }
   ],
   "source": [
    "#Q5\n",
    "import pandas\n",
    "import numpy as np\n",
    "\n",
    "# supress scientific notation\n",
    "np.set_printoptions(suppress = True)\n",
    "\n",
    "# read the data file from GitHub and convert to a NumPy ndarray object\n",
    "nyc_water = pandas.read_csv('https://raw.githubusercontent.com/jtopor/DAV-5400/master/Week4/Water_Consumption_In_The_New_York_City.csv').values\n",
    "\n",
    "# verify you have an ndarray object\n",
    "type(nyc_water)"
   ]
  },
  {
   "cell_type": "code",
   "execution_count": 8,
   "metadata": {},
   "outputs": [
    {
     "name": "stdout",
     "output_type": "stream",
     "text": [
      "[[   1979.  7102100.     1512.      213. ]\n",
      " [   1980.  7071639.     1506.      213. ]\n",
      " [   1981.  7089241.     1309.      185. ]\n",
      " [   1982.  7109105.     1382.      194. ]\n",
      " [   1983.  7181224.     1424.      198. ]\n",
      " [   1984.  7234514.     1465.      203. ]\n",
      " [   1985.  7274054.     1326.      182. ]\n",
      " [   1986.  7319246.     1351.      185. ]\n",
      " [   1987.  7342476.     1447.      197. ]\n",
      " [   1988.  7353719.     1484.      202. ]\n",
      " [   1989.  7344175.     1402.      191. ]\n",
      " [   1990.  7335650.     1424.      194. ]\n",
      " [   1991.  7374501.     1469.      199. ]\n",
      " [   1992.  7428944.     1369.      184. ]\n",
      " [   1993.  7506166.     1368.5     182. ]\n",
      " [   1994.  7570458.     1357.7     179. ]\n",
      " [   1995.  7633040.     1325.7     174. ]\n",
      " [   1996.  7697812.     1297.9     169. ]\n",
      " [   1997.  7773443.     1205.5     155. ]\n",
      " [   1998.  7858259.     1219.5     155. ]\n",
      " [   1999.  7947660.     1237.2     156. ]\n",
      " [   2000.  8008278.     1240.4     155. ]\n",
      " [   2001.  8024963.5    1184.      148. ]\n",
      " [   2002.  8041649.     1135.6     141. ]\n",
      " [   2003.  8058334.5    1093.7     136. ]\n",
      " [   2004.  8075020.     1099.5     136. ]\n",
      " [   2005.  8091705.5    1138.      141. ]\n",
      " [   2006.  8108391.     1069.      132. ]\n",
      " [   2007.  8125076.5    1114.      137. ]\n",
      " [   2008.  8141762.     1098.      135. ]\n",
      " [   2009.  8158447.5    1007.5     123. ]\n",
      " [   2010.  8175133.     1039.      127. ]\n",
      " [   2011.  8284098.     1021.      123. ]\n",
      " [   2012.  8361179.     1009.1     121. ]\n",
      " [   2013.  8422460.     1006.1     119. ]\n",
      " [   2014.  8471990.      996.      118. ]\n",
      " [   2015.  8516502.     1009.      118. ]\n",
      " [   2016.  8537673.     1002.      117. ]\n",
      " [   2017.  8622698.      990.2     115. ]]\n"
     ]
    }
   ],
   "source": [
    "print(nyc_water)"
   ]
  },
  {
   "cell_type": "code",
   "execution_count": 12,
   "metadata": {},
   "outputs": [
    {
     "name": "stdout",
     "output_type": "stream",
     "text": [
      "[1512.  1506.  1309.  1382.  1424.  1465.  1326.  1351.  1447.  1484.\n",
      " 1402.  1424.  1469.  1369.  1368.5 1357.7 1325.7 1297.9 1205.5 1219.5\n",
      " 1237.2 1240.4 1184.  1135.6 1093.7 1099.5 1138.  1069.  1114.  1098.\n",
      " 1007.5 1039.  1021.  1009.1 1006.1  996.  1009.  1002.   990.2]\n"
     ]
    }
   ],
   "source": [
    "# get the NYC consumption of water in millions of gallons per day\n",
    "# get the third column of nyc_water\n",
    "nyc_consumption=nyc_water[:, 2]\n",
    "print(nyc_consumption)"
   ]
  },
  {
   "cell_type": "code",
   "execution_count": 18,
   "metadata": {},
   "outputs": [
    {
     "data": {
      "text/plain": [
       "1512.0"
      ]
     },
     "execution_count": 18,
     "metadata": {},
     "output_type": "execute_result"
    }
   ],
   "source": [
    "# What is the maximum yearly NYC consumption of water in millions of gallons per day?\n",
    "max(nyc_consumption)"
   ]
  },
  {
   "cell_type": "code",
   "execution_count": 15,
   "metadata": {},
   "outputs": [
    {
     "name": "stdout",
     "output_type": "stream",
     "text": [
      "[1979. 1980. 1981. 1982. 1983. 1984. 1985. 1986. 1987. 1988. 1989. 1990.\n",
      " 1991. 1992. 1993. 1994. 1995. 1996. 1997. 1998. 1999. 2000. 2001. 2002.\n",
      " 2003. 2004. 2005. 2006. 2007. 2008. 2009. 2010. 2011. 2012. 2013. 2014.\n",
      " 2015. 2016. 2017.]\n"
     ]
    }
   ],
   "source": [
    "year=nyc_water[:, 0]\n",
    "print(year)"
   ]
  },
  {
   "cell_type": "code",
   "execution_count": 16,
   "metadata": {},
   "outputs": [
    {
     "data": {
      "text/plain": [
       "(39,)"
      ]
     },
     "execution_count": 16,
     "metadata": {},
     "output_type": "execute_result"
    }
   ],
   "source": [
    "# How many calendar years are represented within this data set? \n",
    "year.shape"
   ]
  },
  {
   "cell_type": "code",
   "execution_count": 19,
   "metadata": {},
   "outputs": [
    {
     "name": "stdout",
     "output_type": "stream",
     "text": [
      "[213. 213. 185. 194. 198. 203. 182. 185. 197. 202. 191. 194. 199. 184.\n",
      " 182. 179. 174. 169. 155. 155. 156. 155. 148. 141. 136. 136. 141. 132.\n",
      " 137. 135. 123. 127. 123. 121. 119. 118. 118. 117. 115.]\n"
     ]
    }
   ],
   "source": [
    "capita_daily_consumption=nyc_water[:, 3]\n",
    "print(capita_daily_consumption)"
   ]
  },
  {
   "cell_type": "code",
   "execution_count": 21,
   "metadata": {},
   "outputs": [
    {
     "name": "stdout",
     "output_type": "stream",
     "text": [
      "160.30769230769232 31.51894330370624\n"
     ]
    }
   ],
   "source": [
    "# What is the mean and the standard deviation of the per capita daily water consumption?\n",
    "mean, sd=np.mean(capita_daily_consumption), np.std(capita_daily_consumption)\n",
    "print(mean, sd)"
   ]
  },
  {
   "cell_type": "code",
   "execution_count": 23,
   "metadata": {},
   "outputs": [
    {
     "name": "stdout",
     "output_type": "stream",
     "text": [
      "[7102100.  7071639.  7089241.  7109105.  7181224.  7234514.  7274054.\n",
      " 7319246.  7342476.  7353719.  7344175.  7335650.  7374501.  7428944.\n",
      " 7506166.  7570458.  7633040.  7697812.  7773443.  7858259.  7947660.\n",
      " 8008278.  8024963.5 8041649.  8058334.5 8075020.  8091705.5 8108391.\n",
      " 8125076.5 8141762.  8158447.5 8175133.  8284098.  8361179.  8422460.\n",
      " 8471990.  8516502.  8537673.  8622698. ]\n"
     ]
    }
   ],
   "source": [
    "pop=nyc_water[:, 1]\n",
    "print(pop)"
   ]
  },
  {
   "cell_type": "code",
   "execution_count": 25,
   "metadata": {},
   "outputs": [
    {
     "name": "stdout",
     "output_type": "stream",
     "text": [
      "[-30461.   17602.   19864.   72119.   53290.   39540.   45192.   23230.\n",
      "  11243.   -9544.   -8525.   38851.   54443.   77222.   64292.   62582.\n",
      "  64772.   75631.   84816.   89401.   60618.   16685.5  16685.5  16685.5\n",
      "  16685.5  16685.5  16685.5  16685.5  16685.5  16685.5  16685.5 108965.\n",
      "  77081.   61281.   49530.   44512.   21171.   85025. ]\n"
     ]
    }
   ],
   "source": [
    "#What is the increase or decrease in population from year to year?\n",
    "pop_diff=np.diff(pop)\n",
    "print(pop_diff)"
   ]
  },
  {
   "cell_type": "code",
   "execution_count": null,
   "metadata": {},
   "outputs": [],
   "source": []
  }
 ],
 "metadata": {
  "kernelspec": {
   "display_name": "Python 3",
   "language": "python",
   "name": "python3"
  },
  "language_info": {
   "codemirror_mode": {
    "name": "ipython",
    "version": 3
   },
   "file_extension": ".py",
   "mimetype": "text/x-python",
   "name": "python",
   "nbconvert_exporter": "python",
   "pygments_lexer": "ipython3",
   "version": "3.8.3"
  }
 },
 "nbformat": 4,
 "nbformat_minor": 4
}
