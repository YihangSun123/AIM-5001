{
 "cells": [
  {
   "cell_type": "markdown",
   "metadata": {},
   "source": [
    "# AIM 5001 Final Project Proposal"
   ]
  },
  {
   "cell_type": "markdown",
   "metadata": {},
   "source": [
    "# Introduction: \n",
    "Gun control is more controversial than other countries in the United States. The United States has the highest homicide-by-firearm rate in developed countries. Gun violence cause tens of thousands of deaths and injuries annually. The problem of gun control is being a very disputed problem in the United States. Proponents of gun control think that limiting guns will save lives and reduce crime, but opponents think that it can help law-abiding citizens to defend themselves and against criminals.\n",
    "\n",
    "So I would find related data and analyze the problem of gun violence in the final project. This project also explore the most important factors in gun violence.\n"
   ]
  },
  {
   "cell_type": "markdown",
   "metadata": {},
   "source": [
    "# Research Questions:\n",
    "1. Which factor has the highest effect for gun violence?\n",
    "Many factors can affect the gun violence, such income, gender and others. Which factor has the highest effect?\n",
    "\n",
    "2. Can Law of control guns solve the Gun violence?\n",
    "Legislation at the federal, state, and local levels has attempted to address gun violence through a variety of methods.Is the way effective?\n",
    "\n",
    "\n",
    "The solution of these question can find that which factor has the highest effect for gun violence. According to different importance,  government and related people can distribute work reasonably on different factors. It can keep the highest efficiency to solve the problem of gun violence.\n",
    "\n",
    "The solution can help to solve the dispute of controlling guns or prohibit guns."
   ]
  },
  {
   "cell_type": "markdown",
   "metadata": {},
   "source": [
    "# Data to be Used:\n",
    "1.I will use the data 'More Guns, Less Crime?' from R Data Sets.It includes 1173 rows and 13 columns.This data will use csv format.\n",
    "\n",
    "2.Another source is scraping of a web page from https://everytownresearch.org/report/gun-violence-in-america/."
   ]
  },
  {
   "cell_type": "markdown",
   "metadata": {},
   "source": [
    "# Approach:\n",
    "1. I will upload data to github and import them to jupyter notebook.Then using matplotlib and seaborn to do the EDA.\n",
    "2. For these research questions, I will use bar plots to show every factor's influence for gun violence, and using scattor chart to anlayze the change of gun violence with time.\n",
    "3. I will use Pivot table and heatmap(we did not cover in clas) to do multivariate analysis, it can compare influence of different factors to gun violence."
   ]
  },
  {
   "cell_type": "code",
   "execution_count": null,
   "metadata": {},
   "outputs": [],
   "source": []
  }
 ],
 "metadata": {
  "kernelspec": {
   "display_name": "Python 3",
   "language": "python",
   "name": "python3"
  },
  "language_info": {
   "codemirror_mode": {
    "name": "ipython",
    "version": 3
   },
   "file_extension": ".py",
   "mimetype": "text/x-python",
   "name": "python",
   "nbconvert_exporter": "python",
   "pygments_lexer": "ipython3",
   "version": "3.8.3"
  }
 },
 "nbformat": 4,
 "nbformat_minor": 4
}
